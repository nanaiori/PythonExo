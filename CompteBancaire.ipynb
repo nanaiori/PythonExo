{
 "cells": [
  {
   "cell_type": "code",
   "execution_count": 1,
   "metadata": {},
   "outputs": [],
   "source": [
    "class CompteBancaire:\n",
    "    \n",
    "    def __init__(self,nom='Dupont',solde=1000):\n",
    " \n",
    "        \n",
    "        self.nom=nom\n",
    "        self.solde=solde\n",
    "        \n",
    "    def depot(self,somme):\n",
    "      \n",
    "        \n",
    "        self.solde+=somme\n",
    "        \n",
    "    def retrait(self,somme):\n",
    "       \n",
    "        \n",
    "        self.solde-=somme\n",
    "        \n",
    "    def affiche(self):\n",
    "\n",
    "        \n",
    "        print(\"Le solde du compte bancaire de %s est de %.2f euros.\"%(self.nom,self.solde))"
   ]
  },
  {
   "cell_type": "code",
   "execution_count": 4,
   "metadata": {},
   "outputs": [
    {
     "name": "stdout",
     "output_type": "stream",
     "text": [
      "Le solde du compte bancaire de Duchmol est de 950.00 euros.\n"
     ]
    }
   ],
   "source": [
    "compte1 = CompteBancaire(\"Duchmol\",800)\n",
    "compte1.depot(350)\n",
    "compte1.retrait(200)\n",
    "compte1.affiche()\n",
    "\n",
    "\n"
   ]
  },
  {
   "cell_type": "code",
   "execution_count": null,
   "metadata": {},
   "outputs": [],
   "source": []
  },
  {
   "cell_type": "code",
   "execution_count": null,
   "metadata": {},
   "outputs": [],
   "source": []
  },
  {
   "cell_type": "code",
   "execution_count": null,
   "metadata": {},
   "outputs": [],
   "source": []
  },
  {
   "cell_type": "code",
   "execution_count": null,
   "metadata": {},
   "outputs": [],
   "source": []
  },
  {
   "cell_type": "code",
   "execution_count": null,
   "metadata": {},
   "outputs": [],
   "source": []
  }
 ],
 "metadata": {
  "kernelspec": {
   "display_name": "Python 3",
   "language": "python",
   "name": "python3"
  },
  "language_info": {
   "codemirror_mode": {
    "name": "ipython",
    "version": 3
   },
   "file_extension": ".py",
   "mimetype": "text/x-python",
   "name": "python",
   "nbconvert_exporter": "python",
   "pygments_lexer": "ipython3",
   "version": "3.8.1"
  }
 },
 "nbformat": 4,
 "nbformat_minor": 4
}
