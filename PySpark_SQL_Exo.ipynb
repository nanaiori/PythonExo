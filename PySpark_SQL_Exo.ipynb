{
 "cells": [
  {
   "cell_type": "code",
   "execution_count": 99,
   "metadata": {},
   "outputs": [],
   "source": [
    "from pyspark import * \n",
    "from pyspark.sql import SQLContext\n",
    "import urllib"
   ]
  },
  {
   "cell_type": "code",
   "execution_count": 2,
   "metadata": {},
   "outputs": [],
   "source": [
    "sc = SparkContext(master=\"local\", appName=\"test\")"
   ]
  },
  {
   "cell_type": "code",
   "execution_count": 4,
   "metadata": {},
   "outputs": [
    {
     "data": {
      "text/html": [
       "\n",
       "        <div>\n",
       "            <p><b>SparkContext</b></p>\n",
       "\n",
       "            <p><a href=\"http://f311b0492108:4040\">Spark UI</a></p>\n",
       "\n",
       "            <dl>\n",
       "              <dt>Version</dt>\n",
       "                <dd><code>v2.4.4</code></dd>\n",
       "              <dt>Master</dt>\n",
       "                <dd><code>local</code></dd>\n",
       "              <dt>AppName</dt>\n",
       "                <dd><code>test</code></dd>\n",
       "            </dl>\n",
       "        </div>\n",
       "        "
      ],
      "text/plain": [
       "<SparkContext master=local appName=test>"
      ]
     },
     "execution_count": 4,
     "metadata": {},
     "output_type": "execute_result"
    }
   ],
   "source": [
    "sc"
   ]
  },
  {
   "cell_type": "code",
   "execution_count": 58,
   "metadata": {},
   "outputs": [],
   "source": [
    "#download les data\n",
    "# http://kdd.ics.uci.edu/databases/kddcup99/kddcup99.html\n",
    "url = urllib.request.urlretrieve('http://kdd.ics.uci.edu/databases/kddcup99/kddcup.data_10_percent.gz', 'data_10_percent.gz')"
   ]
  },
  {
   "cell_type": "code",
   "execution_count": 127,
   "metadata": {},
   "outputs": [],
   "source": [
    "#initialiser un SQLContext\n",
    "path = './data_10_percent.gz'\n",
    "sqlContext = SQLContext(sc)\n",
    "datas = sc.textFile(path)\n",
    "datas = datas.map(lambda x: x.split(','))"
   ]
  },
  {
   "cell_type": "code",
   "execution_count": 136,
   "metadata": {},
   "outputs": [
    {
     "data": {
      "text/plain": [
       "StructType(List(StructField(duration,IntegerType,true),StructField(protocol_type,StringType,true),StructField(service,StringType,true),StructField(flag,StringType,true),StructField(src_bytes,IntegerType,true),StructField(dest_bytes,IntegerType,true),StructField(interactions,StringType,true)))"
      ]
     },
     "execution_count": 136,
     "metadata": {},
     "output_type": "execute_result"
    }
   ],
   "source": [
    "#parser les data\n",
    "from pyspark.sql.types import *\n",
    "structure = StructType([\n",
    "    StructField(\"duration\", IntegerType(),     True),\n",
    "    StructField(\"protocol_type\", StringType(), True),\n",
    "    StructField(\"service\", StringType(),       True),\n",
    "    StructField(\"flag\", StringType(),       True),\n",
    "    StructField(\"src_bytes\", IntegerType(),    True),\n",
    "    StructField(\"dest_bytes\", IntegerType(),   True),\n",
    "    StructField(\"interactions\", StringType(),  True)\n",
    "])\n",
    "structure"
   ]
  },
  {
   "cell_type": "code",
   "execution_count": 141,
   "metadata": {},
   "outputs": [],
   "source": [
    "#a l'aide de la methode StructType structurer un schema de donnees  \n",
    "datasFormatted = datas.map(lambda key: (int(key[0]), key[1], key[2], key[3], int(key[4]), int(key[5]), key[-1]))"
   ]
  },
  {
   "cell_type": "code",
   "execution_count": 140,
   "metadata": {},
   "outputs": [
    {
     "name": "stdout",
     "output_type": "stream",
     "text": [
      "+--------+-------------+-------+----+---------+----------+------------+\n",
      "|duration|protocol_type|service|flag|src_bytes|dest_bytes|interactions|\n",
      "+--------+-------------+-------+----+---------+----------+------------+\n",
      "|       0|          tcp|   http|  SF|      181|      5450|     normal.|\n",
      "|       0|          tcp|   http|  SF|      239|       486|     normal.|\n",
      "|       0|          tcp|   http|  SF|      235|      1337|     normal.|\n",
      "|       0|          tcp|   http|  SF|      219|      1337|     normal.|\n",
      "|       0|          tcp|   http|  SF|      217|      2032|     normal.|\n",
      "|       0|          tcp|   http|  SF|      217|      2032|     normal.|\n",
      "|       0|          tcp|   http|  SF|      212|      1940|     normal.|\n",
      "|       0|          tcp|   http|  SF|      159|      4087|     normal.|\n",
      "|       0|          tcp|   http|  SF|      210|       151|     normal.|\n",
      "|       0|          tcp|   http|  SF|      212|       786|     normal.|\n",
      "+--------+-------------+-------+----+---------+----------+------------+\n",
      "only showing top 10 rows\n",
      "\n"
     ]
    }
   ],
   "source": [
    "#afficher les 10premieres lignes du DataFrame\n",
    "\n",
    "df = sqlContext.createDataFrame(datasFormatted, structure)\n",
    "df.show(10)"
   ]
  },
  {
   "cell_type": "code",
   "execution_count": 152,
   "metadata": {},
   "outputs": [],
   "source": [
    "#creer une vue 'interactions'\n",
    "df.createOrReplaceTempView('interactions')"
   ]
  },
  {
   "cell_type": "raw",
   "metadata": {},
   "source": [
    "# a quoi servent les TempView?\n",
    "il sert a travailler sur une copie des données pour ne pas changer ou perdu les données principales. "
   ]
  },
  {
   "cell_type": "code",
   "execution_count": 167,
   "metadata": {},
   "outputs": [
    {
     "data": {
      "text/plain": [
       "139"
      ]
     },
     "execution_count": 167,
     "metadata": {},
     "output_type": "execute_result"
    }
   ],
   "source": [
    "#selectionner les colonnes duration, dst_bytes ou le protocole est tcp et les duration > 1000 avec des dst_bytes nuls\n",
    "result = df[(df['duration'] > 1000) & (df['protocol_type'] == 'tcp') & (df['dest_bytes'] == 0)]\n",
    "result.count()"
   ]
  },
  {
   "cell_type": "code",
   "execution_count": 244,
   "metadata": {
    "scrolled": true
   },
   "outputs": [
    {
     "data": {
      "text/plain": [
       "['Duration: 0, Dest. bytes: 5057',\n",
       " 'Duration: 0, Dest. bytes: 5059',\n",
       " 'Duration: 0, Dest. bytes: 5051',\n",
       " 'Duration: 0, Dest. bytes: 5056',\n",
       " 'Duration: 0, Dest. bytes: 5051',\n",
       " 'Duration: 0, Dest. bytes: 5039',\n",
       " 'Duration: 0, Dest. bytes: 5062',\n",
       " 'Duration: 0, Dest. bytes: 5041',\n",
       " 'Duration: 0, Dest. bytes: 5056',\n",
       " 'Duration: 0, Dest. bytes: 5064']"
      ]
     },
     "execution_count": 244,
     "metadata": {},
     "output_type": "execute_result"
    }
   ],
   "source": [
    "#afficher les lignes ci-dessus en utilisant la fonction lambda\n",
    "result.rdd.map(lambda x : \"Duration: {0}, Dest. bytes: {1}\".format(x.dest_bytes,x.duration)).take(10)\n"
   ]
  },
  {
   "cell_type": "code",
   "execution_count": 232,
   "metadata": {},
   "outputs": [
    {
     "name": "stdout",
     "output_type": "stream",
     "text": [
      "+-------------+------+\n",
      "|protocol_type| count|\n",
      "+-------------+------+\n",
      "|          tcp|190065|\n",
      "|          udp| 20354|\n",
      "|         icmp|283602|\n",
      "+-------------+------+\n",
      "\n",
      "Temps d execution : 8.615044832229614 secondes\n"
     ]
    }
   ],
   "source": [
    "#compter le nombre d'interaction par protocol\n",
    "import time\n",
    "test = df[['protocol_type']].groupby(['protocol_type']).count()\n",
    "start_time = time.time()\n",
    "test.show()\n",
    "print(\"Temps d execution : %s secondes\" % (time.time() - start_time))"
   ]
  },
  {
   "cell_type": "code",
   "execution_count": 252,
   "metadata": {},
   "outputs": [
    {
     "name": "stdout",
     "output_type": "stream",
     "text": [
      "+-------------+-----+\n",
      "|protocol_type|count|\n",
      "+-------------+-----+\n",
      "|          tcp|  139|\n",
      "+-------------+-----+\n",
      "\n",
      "Temps d execution : 8.23030686378479 secondes\n"
     ]
    }
   ],
   "source": [
    "#selectionner les colonnes duration, dst_bytes ou le protocole est tcp et les duration > 1000 avec des dst_bytes nuls\n",
    "# utiliser la methode filter\n",
    "timeStartFilter = time.time()\n",
    "filtered = df[(df['duration'] > 1000) & (df['dest_bytes'] ==0)].groupby(['protocol_type']).count()\n",
    "filtered.show()\n",
    "print(\"Temps d execution : %s secondes\" % (time.time() - timeStartFilter))"
   ]
  },
  {
   "cell_type": "code",
   "execution_count": 254,
   "metadata": {},
   "outputs": [
    {
     "data": {
      "text/plain": [
       "['Duration: 0, Dest. bytes: 5057',\n",
       " 'Duration: 0, Dest. bytes: 5059',\n",
       " 'Duration: 0, Dest. bytes: 5051',\n",
       " 'Duration: 0, Dest. bytes: 5056',\n",
       " 'Duration: 0, Dest. bytes: 5051',\n",
       " 'Duration: 0, Dest. bytes: 5039',\n",
       " 'Duration: 0, Dest. bytes: 5062',\n",
       " 'Duration: 0, Dest. bytes: 5041',\n",
       " 'Duration: 0, Dest. bytes: 5056',\n",
       " 'Duration: 0, Dest. bytes: 5064']"
      ]
     },
     "execution_count": 254,
     "metadata": {},
     "output_type": "execute_result"
    }
   ],
   "source": [
    "#afficher votre resultats\n",
    "withoutGby = df[(df['duration'] > 1000) & (df['dest_bytes'] ==0)]\n",
    "withoutGby.rdd.map(lambda x : \"Duration: {0}, Dest. bytes: {1}\".format(x.dest_bytes,x.duration)).take(10)"
   ]
  },
  {
   "cell_type": "code",
   "execution_count": 227,
   "metadata": {},
   "outputs": [],
   "source": [
    "from pyspark.sql.functions import udf\n",
    "\n",
    "\n",
    "def attack_or_normal_func(s):\n",
    "    return \"normal\" if s == \"normal.\" else \"attack\""
   ]
  },
  {
   "cell_type": "code",
   "execution_count": 272,
   "metadata": {},
   "outputs": [
    {
     "name": "stdout",
     "output_type": "stream",
     "text": [
      "root\n",
      " |-- duration: integer (nullable = true)\n",
      " |-- protocol_type: string (nullable = true)\n",
      " |-- service: string (nullable = true)\n",
      " |-- flag: string (nullable = true)\n",
      " |-- src_bytes: integer (nullable = true)\n",
      " |-- dest_bytes: integer (nullable = true)\n",
      " |-- interactions: string (nullable = true)\n",
      " |-- label: string (nullable = true)\n",
      "\n"
     ]
    }
   ],
   "source": [
    "#à l'aide de la fonction udf ajouter une colonne label au DataFrame \n",
    "#afficher le schema de donnees et verifier que la colonne label est bien ajoutee\n",
    "newLabel = udf(attack_or_normal_func, StringType())\n",
    "df = df.withColumn('label',newLabel(df['interactions']))\n",
    "df.printSchema()"
   ]
  },
  {
   "cell_type": "code",
   "execution_count": 280,
   "metadata": {},
   "outputs": [
    {
     "name": "stdout",
     "output_type": "stream",
     "text": [
      "+------+------+\n",
      "| label| count|\n",
      "+------+------+\n",
      "|normal| 97278|\n",
      "|attack|396743|\n",
      "+------+------+\n",
      "\n",
      "Temps d execution : 7.908934116363525 secondes\n"
     ]
    }
   ],
   "source": [
    "#compter les labels\n",
    "timeStartgroupbyLabel = time.time()\n",
    "df.select('label').groupby('label').count().show()\n",
    "print(\"Temps d execution : %s secondes\" % (time.time() - timeStartgroupbyLabel))"
   ]
  },
  {
   "cell_type": "code",
   "execution_count": 281,
   "metadata": {},
   "outputs": [
    {
     "name": "stdout",
     "output_type": "stream",
     "text": [
      "+------+-------------+------+\n",
      "| label|protocol_type| count|\n",
      "+------+-------------+------+\n",
      "|normal|          udp| 19177|\n",
      "|normal|         icmp|  1288|\n",
      "|normal|          tcp| 76813|\n",
      "|attack|         icmp|282314|\n",
      "|attack|          tcp|113252|\n",
      "|attack|          udp|  1177|\n",
      "+------+-------------+------+\n",
      "\n",
      "Temps d execution : 7.731747388839722 secondes\n"
     ]
    }
   ],
   "source": [
    "#compter les labels par protocoles \n",
    "timeStartgroupbyLabelProtocol = time.time()\n",
    "df.select('label', 'protocol_type').groupby('label', 'protocol_type').count().show()\n",
    "print(\"Temps d execution : %s secondes\" % (time.time() - timeStartgroupbyLabelProtocol))"
   ]
  },
  {
   "cell_type": "code",
   "execution_count": null,
   "metadata": {},
   "outputs": [],
   "source": []
  }
 ],
 "metadata": {
  "kernelspec": {
   "display_name": "Python 3",
   "language": "python",
   "name": "python3"
  },
  "language_info": {
   "codemirror_mode": {
    "name": "ipython",
    "version": 3
   },
   "file_extension": ".py",
   "mimetype": "text/x-python",
   "name": "python",
   "nbconvert_exporter": "python",
   "pygments_lexer": "ipython3",
   "version": "3.7.4"
  }
 },
 "nbformat": 4,
 "nbformat_minor": 2
}
